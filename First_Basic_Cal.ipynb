{
 "cells": [
  {
   "cell_type": "code",
   "execution_count": 6,
   "id": "e2490ff9-ea10-4c90-975a-bc7dc2f7c67e",
   "metadata": {},
   "outputs": [
    {
     "name": "stdin",
     "output_type": "stream",
     "text": [
      "Enter the first number: 5\n",
      "Enter the seond number: 6\n"
     ]
    },
    {
     "name": "stdout",
     "output_type": "stream",
     "text": [
      "11\n"
     ]
    }
   ],
   "source": [
    "Num1 = int(input(\"Enter the first number:\"))\n",
    "Num2 = int(input(\"Enter the seond number:\"))\n",
    "Result = Num1 + Num2\n",
    "print(Result)"
   ]
  },
  {
   "cell_type": "code",
   "execution_count": 7,
   "id": "122222dd-aa7d-4ce8-8261-87c0d8fad0f1",
   "metadata": {},
   "outputs": [
    {
     "name": "stdin",
     "output_type": "stream",
     "text": [
      "Enter the first number: 3\n",
      "Enter the seond number: 5\n"
     ]
    },
    {
     "name": "stdout",
     "output_type": "stream",
     "text": [
      "2\n"
     ]
    }
   ],
   "source": [
    "Num1 = int(input(\"Enter the first number:\"))\n",
    "Num2 = int(input(\"Enter the seond number:\"))\n",
    "Result = Num2 - Num1\n",
    "print(Result)"
   ]
  },
  {
   "cell_type": "code",
   "execution_count": 8,
   "id": "1817f9fc-099b-42e6-82c9-fdc16d6eb9a8",
   "metadata": {},
   "outputs": [
    {
     "name": "stdin",
     "output_type": "stream",
     "text": [
      "Enter the first number: 3\n",
      "Enter the seond number: 5\n"
     ]
    },
    {
     "name": "stdout",
     "output_type": "stream",
     "text": [
      "15\n"
     ]
    }
   ],
   "source": [
    "Num1 = int(input(\"Enter the first number:\"))\n",
    "Num2 = int(input(\"Enter the seond number:\"))\n",
    "Result = Num1 * Num2\n",
    "print(Result)"
   ]
  },
  {
   "cell_type": "code",
   "execution_count": 10,
   "id": "964ab733-d1b6-48fe-afdd-6e57e81f5846",
   "metadata": {},
   "outputs": [
    {
     "name": "stdin",
     "output_type": "stream",
     "text": [
      "Enter the first number: 10\n",
      "Enter the seond number: 2\n"
     ]
    },
    {
     "name": "stdout",
     "output_type": "stream",
     "text": [
      "5\n"
     ]
    }
   ],
   "source": [
    "Num1 = int(input(\"Enter the first number:\"))\n",
    "Num2 = int(input(\"Enter the seond number:\"))\n",
    "Result = int(Num1 / Num2)\n",
    "print(Result)"
   ]
  },
  {
   "cell_type": "code",
   "execution_count": 11,
   "id": "d73d00d7-a654-4777-b39d-1d5e5089728d",
   "metadata": {},
   "outputs": [
    {
     "name": "stdout",
     "output_type": "stream",
     "text": [
      "1\n",
      "Fizz\n",
      "3\n",
      "Fizz\n",
      "Buzz\n",
      "Fizz\n",
      "7\n",
      "Fizz\n",
      "9\n",
      "FizzBuzz\n",
      "11\n",
      "Fizz\n",
      "13\n",
      "Fizz\n",
      "Buzz\n",
      "Fizz\n",
      "17\n",
      "Fizz\n",
      "19\n",
      "FizzBuzz\n",
      "21\n",
      "Fizz\n",
      "23\n",
      "Fizz\n",
      "Buzz\n",
      "Fizz\n",
      "27\n",
      "Fizz\n",
      "29\n",
      "FizzBuzz\n",
      "31\n",
      "Fizz\n",
      "33\n",
      "Fizz\n",
      "Buzz\n",
      "Fizz\n",
      "37\n",
      "Fizz\n",
      "39\n",
      "FizzBuzz\n",
      "41\n",
      "Fizz\n",
      "43\n",
      "Fizz\n",
      "Buzz\n",
      "Fizz\n",
      "47\n",
      "Fizz\n",
      "49\n",
      "FizzBuzz\n",
      "51\n",
      "Fizz\n",
      "53\n",
      "Fizz\n",
      "Buzz\n",
      "Fizz\n",
      "57\n",
      "Fizz\n",
      "59\n",
      "FizzBuzz\n",
      "61\n",
      "Fizz\n",
      "63\n",
      "Fizz\n",
      "Buzz\n",
      "Fizz\n",
      "67\n",
      "Fizz\n",
      "69\n",
      "FizzBuzz\n",
      "71\n",
      "Fizz\n",
      "73\n",
      "Fizz\n",
      "Buzz\n",
      "Fizz\n",
      "77\n",
      "Fizz\n",
      "79\n",
      "FizzBuzz\n",
      "81\n",
      "Fizz\n",
      "83\n",
      "Fizz\n",
      "Buzz\n",
      "Fizz\n",
      "87\n",
      "Fizz\n",
      "89\n",
      "FizzBuzz\n",
      "91\n",
      "Fizz\n",
      "93\n",
      "Fizz\n",
      "Buzz\n",
      "Fizz\n",
      "97\n",
      "Fizz\n",
      "99\n"
     ]
    }
   ],
   "source": [
    "for i in range ( 1,100):\n",
    "    if i % 2 ==0 and i % 5== 0:\n",
    "        print(\"FizzBuzz\")\n",
    "    elif i % 2 == 0:\n",
    "         print(\"Fizz\")\n",
    "    elif i % 5 == 0:\n",
    "        print(\"Buzz\")\n",
    "    else:\n",
    "        print(i)\n",
    "    \n",
    "                  \n"
   ]
  },
  {
   "cell_type": "code",
   "execution_count": 14,
   "id": "103913d5-5c58-4e16-9f80-10ec37c4a9e4",
   "metadata": {},
   "outputs": [
    {
     "name": "stdin",
     "output_type": "stream",
     "text": [
      "Enter the first number: 3\n",
      "Enter the second number: 5\n",
      "Enter the third number: 6\n",
      "Input any of these operations +,-,*,/ +\n"
     ]
    },
    {
     "name": "stdout",
     "output_type": "stream",
     "text": [
      "8\n"
     ]
    }
   ],
   "source": [
    "num1 = int(input(\"Enter the first number:\"))\n",
    "num2 = int(input(\"Enter the second number:\"))\n",
    "num3 = int(input(\"Enter the third number:\"))\n",
    "operation=input(\"Input any of these operations +,-,*,/\")\n",
    "#Implementing if these conditions\n",
    "if operation == '+':\n",
    "    print(num1 + num2)\n",
    "elif operation == '-':\n",
    "    print(num1-num2)\n",
    "elif operation == '*':\n",
    "    print(num1*-num2)\n",
    "elif operation == '/':\n",
    "    print(num1/2)\n",
    "else :\n",
    "    print(\"Enter the correct number\")   \n",
    "    "
   ]
  },
  {
   "cell_type": "code",
   "execution_count": null,
   "id": "a23374b5-798d-4311-a2c3-5fa5bb1d7109",
   "metadata": {},
   "outputs": [],
   "source": []
  }
 ],
 "metadata": {
  "kernelspec": {
   "display_name": "Python 3 (ipykernel)",
   "language": "python",
   "name": "python3"
  },
  "language_info": {
   "codemirror_mode": {
    "name": "ipython",
    "version": 3
   },
   "file_extension": ".py",
   "mimetype": "text/x-python",
   "name": "python",
   "nbconvert_exporter": "python",
   "pygments_lexer": "ipython3",
   "version": "3.12.7"
  }
 },
 "nbformat": 4,
 "nbformat_minor": 5
}
