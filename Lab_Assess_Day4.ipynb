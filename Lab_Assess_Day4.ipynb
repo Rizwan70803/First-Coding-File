{
 "cells": [
  {
   "cell_type": "code",
   "execution_count": 7,
   "id": "d945091d-20f2-4633-8ac9-33c18627537d",
   "metadata": {},
   "outputs": [],
   "source": [
    "#Tes1\n",
    "def test_add_multiple_positive_integers():\n",
    "    response=5 + 7 + 9\n",
    "    print(response) "
   ]
  },
  {
   "cell_type": "code",
   "execution_count": 8,
   "id": "baa32da1-d3a3-4121-8204-567549210caa",
   "metadata": {},
   "outputs": [
    {
     "name": "stdout",
     "output_type": "stream",
     "text": [
      "21\n"
     ]
    }
   ],
   "source": [
    "test_add_multiple_positive_integers()"
   ]
  },
  {
   "cell_type": "code",
   "execution_count": 9,
   "id": "9021b2a2-af62-4772-94dd-1401cdfe5408",
   "metadata": {},
   "outputs": [],
   "source": [
    "#Test2\n",
    "def test_add_multiple_complicated_numbers():\n",
    "  response = 5 -7 + 9.3\n",
    "  response = round(response,1)\n",
    "  print(response)\n"
   ]
  },
  {
   "cell_type": "code",
   "execution_count": 10,
   "id": "ac787262-8aa9-43d4-bc12-76674354cbdc",
   "metadata": {},
   "outputs": [
    {
     "name": "stdout",
     "output_type": "stream",
     "text": [
      "7.3\n"
     ]
    }
   ],
   "source": [
    "test_add_multiple_complicated_numbers()"
   ]
  },
  {
   "cell_type": "code",
   "execution_count": 11,
   "id": "5c92b3ac-756d-4029-85d7-307c9b65f48e",
   "metadata": {},
   "outputs": [],
   "source": [
    "#test3\n",
    "def test_multiply_multiple_positive_integers():\n",
    "  response = 4*5*6*7\n",
    "  print(response)\n"
   ]
  },
  {
   "cell_type": "code",
   "execution_count": 12,
   "id": "5e32f510-843e-49ae-a065-1f712d67ce5f",
   "metadata": {},
   "outputs": [
    {
     "name": "stdout",
     "output_type": "stream",
     "text": [
      "840\n"
     ]
    }
   ],
   "source": [
    "test_multiply_multiple_positive_integers()"
   ]
  },
  {
   "cell_type": "code",
   "execution_count": 20,
   "id": "057ad177-3fdc-4b01-a1d3-f69d03e397a8",
   "metadata": {},
   "outputs": [],
   "source": [
    "#Test4\n",
    "def test_multiply_multiple_complicated_numbers():\n",
    "  response = int(4*-5*6.7)\n",
    "  print(response)\n"
   ]
  },
  {
   "cell_type": "code",
   "execution_count": 21,
   "id": "537c3f2e-21f1-4978-91e7-db6a1bb579f0",
   "metadata": {},
   "outputs": [
    {
     "name": "stdout",
     "output_type": "stream",
     "text": [
      "-134\n"
     ]
    }
   ],
   "source": [
    "test_multiply_multiple_complicated_numbers()"
   ]
  },
  {
   "cell_type": "code",
   "execution_count": 66,
   "id": "97231078-a813-4c2a-97b6-8584844c9329",
   "metadata": {},
   "outputs": [],
   "source": [
    "#Test5\n",
    "def test_is_six_even():\n",
    "  num=int(input(\"Enter the number : \"))\n",
    "  if num % 2 ==0:\n",
    "      print(True)\n",
    "  else:\n",
    "      print(False)\n",
    "    "
   ]
  },
  {
   "cell_type": "code",
   "execution_count": 67,
   "id": "2785d28b-054f-4157-98d6-abc523d9f76d",
   "metadata": {},
   "outputs": [
    {
     "name": "stdin",
     "output_type": "stream",
     "text": [
      "Enter the number :  6\n"
     ]
    },
    {
     "name": "stdout",
     "output_type": "stream",
     "text": [
      "True\n"
     ]
    }
   ],
   "source": [
    "test_is_six_even()"
   ]
  },
  {
   "cell_type": "code",
   "execution_count": 88,
   "id": "fb5e96cb-9cac-4773-b406-1bc716636d7a",
   "metadata": {},
   "outputs": [],
   "source": [
    "#Test6\n",
    "def test_is_minus_three_point_eight_even():\n",
    "    num = input(\"Enter the number : \")\n",
    "    if num % 2 == 0:\n",
    "        print(True)\n",
    "    else:\n",
    "        print(False)\n"
   ]
  },
  {
   "cell_type": "code",
   "execution_count": 90,
   "id": "7064cd2e-fffa-4515-a7d9-9b22cd1448ce",
   "metadata": {},
   "outputs": [
    {
     "name": "stdin",
     "output_type": "stream",
     "text": [
      "Enter the number :  -3.8\n"
     ]
    },
    {
     "ename": "TypeError",
     "evalue": "not all arguments converted during string formatting",
     "output_type": "error",
     "traceback": [
      "\u001b[1;31m---------------------------------------------------------------------------\u001b[0m",
      "\u001b[1;31mTypeError\u001b[0m                                 Traceback (most recent call last)",
      "Cell \u001b[1;32mIn[90], line 1\u001b[0m\n\u001b[1;32m----> 1\u001b[0m test_is_minus_three_point_eight_even()\n",
      "Cell \u001b[1;32mIn[88], line 4\u001b[0m, in \u001b[0;36mtest_is_minus_three_point_eight_even\u001b[1;34m()\u001b[0m\n\u001b[0;32m      2\u001b[0m \u001b[38;5;28;01mdef\u001b[39;00m \u001b[38;5;21mtest_is_minus_three_point_eight_even\u001b[39m():\n\u001b[0;32m      3\u001b[0m     num \u001b[38;5;241m=\u001b[39m \u001b[38;5;28minput\u001b[39m(\u001b[38;5;124m\"\u001b[39m\u001b[38;5;124mEnter the number : \u001b[39m\u001b[38;5;124m\"\u001b[39m)\n\u001b[1;32m----> 4\u001b[0m     \u001b[38;5;28;01mif\u001b[39;00m num \u001b[38;5;241m%\u001b[39m \u001b[38;5;241m2\u001b[39m \u001b[38;5;241m==\u001b[39m \u001b[38;5;241m0\u001b[39m:\n\u001b[0;32m      5\u001b[0m         \u001b[38;5;28mprint\u001b[39m(\u001b[38;5;28;01mTrue\u001b[39;00m)\n\u001b[0;32m      6\u001b[0m     \u001b[38;5;28;01melse\u001b[39;00m:\n",
      "\u001b[1;31mTypeError\u001b[0m: not all arguments converted during string formatting"
     ]
    }
   ],
   "source": [
    "test_is_minus_three_point_eight_even()"
   ]
  },
  {
   "cell_type": "code",
   "execution_count": 78,
   "id": "84c60e6a-acb0-4ba5-b27e-cc434c36e95e",
   "metadata": {},
   "outputs": [],
   "source": [
    "#Test7\n",
    "def test_is_three_an_integer():\n",
    "  num = input(\"Enter the number : \")\n",
    "  if isinstance(num,int):\n",
    "      print(True)\n",
    "  else:\n",
    "      print(False)\n"
   ]
  },
  {
   "cell_type": "code",
   "execution_count": 81,
   "id": "bb2eab80-f4db-4b2d-afe0-c506508de1f1",
   "metadata": {},
   "outputs": [
    {
     "name": "stdin",
     "output_type": "stream",
     "text": [
      "Enter the number :  2\n"
     ]
    },
    {
     "name": "stdout",
     "output_type": "stream",
     "text": [
      "False\n"
     ]
    }
   ],
   "source": [
    "test_is_three_an_integer()"
   ]
  },
  {
   "cell_type": "code",
   "execution_count": null,
   "id": "7d3b1b4d-dce0-41b7-af09-db008d025763",
   "metadata": {},
   "outputs": [],
   "source": []
  }
 ],
 "metadata": {
  "kernelspec": {
   "display_name": "Python 3 (ipykernel)",
   "language": "python",
   "name": "python3"
  },
  "language_info": {
   "codemirror_mode": {
    "name": "ipython",
    "version": 3
   },
   "file_extension": ".py",
   "mimetype": "text/x-python",
   "name": "python",
   "nbconvert_exporter": "python",
   "pygments_lexer": "ipython3",
   "version": "3.12.7"
  }
 },
 "nbformat": 4,
 "nbformat_minor": 5
}
