{
 "cells": [
  {
   "cell_type": "code",
   "execution_count": 2,
   "id": "d945091d-20f2-4633-8ac9-33c18627537d",
   "metadata": {},
   "outputs": [],
   "source": [
    "#Tes1\n",
    "def test_add_multiple_positive_integers():\n",
    "    response=5 + 7 + 9\n",
    "    print(response) "
   ]
  },
  {
   "cell_type": "code",
   "execution_count": 3,
   "id": "baa32da1-d3a3-4121-8204-567549210caa",
   "metadata": {},
   "outputs": [
    {
     "name": "stdout",
     "output_type": "stream",
     "text": [
      "21\n"
     ]
    }
   ],
   "source": [
    "test_add_multiple_positive_integers()"
   ]
  },
  {
   "cell_type": "code",
   "execution_count": 4,
   "id": "9021b2a2-af62-4772-94dd-1401cdfe5408",
   "metadata": {},
   "outputs": [],
   "source": [
    "#Test2\n",
    "def test_add_multiple_complicated_numbers():\n",
    "  response = 5 -7 + 9.3\n",
    "  response = round(response,1)\n",
    "  print(response)\n"
   ]
  },
  {
   "cell_type": "code",
   "execution_count": 5,
   "id": "ac787262-8aa9-43d4-bc12-76674354cbdc",
   "metadata": {},
   "outputs": [
    {
     "name": "stdout",
     "output_type": "stream",
     "text": [
      "7.3\n"
     ]
    }
   ],
   "source": [
    "test_add_multiple_complicated_numbers()"
   ]
  },
  {
   "cell_type": "code",
   "execution_count": 6,
   "id": "5c92b3ac-756d-4029-85d7-307c9b65f48e",
   "metadata": {},
   "outputs": [],
   "source": [
    "#test3\n",
    "def test_multiply_multiple_positive_integers():\n",
    "  response = 4*5*6*7\n",
    "  print(response)\n"
   ]
  },
  {
   "cell_type": "code",
   "execution_count": 7,
   "id": "5e32f510-843e-49ae-a065-1f712d67ce5f",
   "metadata": {},
   "outputs": [
    {
     "name": "stdout",
     "output_type": "stream",
     "text": [
      "840\n"
     ]
    }
   ],
   "source": [
    "test_multiply_multiple_positive_integers()"
   ]
  },
  {
   "cell_type": "code",
   "execution_count": 8,
   "id": "057ad177-3fdc-4b01-a1d3-f69d03e397a8",
   "metadata": {},
   "outputs": [],
   "source": [
    "#Test4\n",
    "def test_multiply_multiple_complicated_numbers():\n",
    "  response = int(4*-5*6.7)\n",
    "  print(response)\n"
   ]
  },
  {
   "cell_type": "code",
   "execution_count": 9,
   "id": "537c3f2e-21f1-4978-91e7-db6a1bb579f0",
   "metadata": {},
   "outputs": [
    {
     "name": "stdout",
     "output_type": "stream",
     "text": [
      "-134\n"
     ]
    }
   ],
   "source": [
    "test_multiply_multiple_complicated_numbers()"
   ]
  },
  {
   "cell_type": "code",
   "execution_count": 10,
   "id": "97231078-a813-4c2a-97b6-8584844c9329",
   "metadata": {},
   "outputs": [],
   "source": [
    "#Test5\n",
    "def test_is_six_even():\n",
    "  num=int(input(\"Enter the number : \"))\n",
    "  if num % 2 ==0:\n",
    "      print(True)\n",
    "  else:\n",
    "      print(False)\n",
    "    "
   ]
  },
  {
   "cell_type": "code",
   "execution_count": 25,
   "id": "2785d28b-054f-4157-98d6-abc523d9f76d",
   "metadata": {},
   "outputs": [
    {
     "name": "stdin",
     "output_type": "stream",
     "text": [
      "Enter the number :  6\n"
     ]
    },
    {
     "name": "stdout",
     "output_type": "stream",
     "text": [
      "True\n"
     ]
    }
   ],
   "source": [
    "test_is_six_even()"
   ]
  },
  {
   "cell_type": "code",
   "execution_count": 76,
   "id": "e790dae4-bab6-48dc-89c5-58d656192d9c",
   "metadata": {},
   "outputs": [],
   "source": [
    "#Test 6\n",
    "def test_is_minus_three_point_eight_even():\n",
    "    num = input(\"Enter the number\")\n",
    "    new_num=float(num)\n",
    "    if new_num % 2 == 0:\n",
    "        print(True)\n",
    "    else:\n",
    "        print(False)\n"
   ]
  },
  {
   "cell_type": "code",
   "execution_count": 77,
   "id": "0b9873ec-1716-4f06-ae87-85d43ce7172a",
   "metadata": {},
   "outputs": [
    {
     "name": "stdin",
     "output_type": "stream",
     "text": [
      "Enter the number 3.8\n"
     ]
    },
    {
     "name": "stdout",
     "output_type": "stream",
     "text": [
      "False\n"
     ]
    }
   ],
   "source": [
    "test_is_minus_three_point_eight_even()"
   ]
  },
  {
   "cell_type": "code",
   "execution_count": 47,
   "id": "d317b9c7-f5e6-4ac9-81b7-df7545a767b5",
   "metadata": {},
   "outputs": [],
   "source": [
    "#Test 7\n",
    "def test_is_three_an_integer():\n",
    "  number=input(\"Enter the number : \")\n",
    "  num=int(number)\n",
    "  if num == 3:\n",
    "      print(True)\n",
    "  else:\n",
    "      print(False)\n",
    " \n"
   ]
  },
  {
   "cell_type": "code",
   "execution_count": 54,
   "id": "e6635d80-7c99-4f62-8403-b049560a2cc5",
   "metadata": {},
   "outputs": [
    {
     "name": "stdin",
     "output_type": "stream",
     "text": [
      "Enter the number :  3\n"
     ]
    },
    {
     "name": "stdout",
     "output_type": "stream",
     "text": [
      "True\n"
     ]
    }
   ],
   "source": [
    "test_is_three_an_integer()\n"
   ]
  },
  {
   "cell_type": "code",
   "execution_count": 74,
   "id": "13f19dde-ec44-4e90-9651-3a162ce1c5bb",
   "metadata": {},
   "outputs": [],
   "source": [
    "# Test 8\n",
    "def test_is_seven_point_three_an_integer():\n",
    "  number=input(\"Enter the number : \")\n",
    "  num=float(number)\n",
    "  if num.is_integer():\n",
    "      print(True)\n",
    "  else:\n",
    "      print(False)"
   ]
  },
  {
   "cell_type": "code",
   "execution_count": 75,
   "id": "6826cd2a-9380-4f2f-aba0-c0f49e9df2a6",
   "metadata": {},
   "outputs": [
    {
     "name": "stdin",
     "output_type": "stream",
     "text": [
      "Enter the number :  7.3\n"
     ]
    },
    {
     "name": "stdout",
     "output_type": "stream",
     "text": [
      "False\n"
     ]
    }
   ],
   "source": [
    "test_is_seven_point_three_an_integer()\n"
   ]
  },
  {
   "cell_type": "code",
   "execution_count": null,
   "id": "d93ae2a3-41ce-4ee9-8d89-1cfc30a00510",
   "metadata": {},
   "outputs": [],
   "source": []
  }
 ],
 "metadata": {
  "kernelspec": {
   "display_name": "Python 3 (ipykernel)",
   "language": "python",
   "name": "python3"
  },
  "language_info": {
   "codemirror_mode": {
    "name": "ipython",
    "version": 3
   },
   "file_extension": ".py",
   "mimetype": "text/x-python",
   "name": "python",
   "nbconvert_exporter": "python",
   "pygments_lexer": "ipython3",
   "version": "3.12.7"
  }
 },
 "nbformat": 4,
 "nbformat_minor": 5
}
